{
 "cells": [
  {
   "cell_type": "code",
   "execution_count": null,
   "metadata": {},
   "outputs": [],
   "source": [
    "\"\"\"Ignore this code cell, this is an alternate variation I was messing around with at first, start below\"\"\"\n",
    "import requests\n",
    "import base64\n",
    "\n",
    "# Replace the values below with your own API key and API secret key\n",
    "api_key = \"R47AjI7AIbY4t9xkZLgnxCYfE\"\n",
    "api_secret_key = \"86hsbN2nDZTvbdcXNwOaQAL4UN2p3875U5LVDXKJkKU2hXoWlT\"\n",
    "\n",
    "# Encode the API key and API secret key in base64\n",
    "encoded_api_key_secret = base64.b64encode(f\"{api_key}:{api_secret_key}\".encode()).decode()\n",
    "\n",
    "# Obtain a Bearer token\n",
    "headers = {\n",
    "    \"Authorization\": f\"Basic {encoded_api_key_secret}\",\n",
    "    \"Content-Type\": \"application/x-www-form-urlencoded;charset=UTF-8\"\n",
    "}\n",
    "data = {\n",
    "    \"grant_type\": \"client_credentials\"\n",
    "}\n",
    "response = requests.post(\"https://api.twitter.com/oauth2/token\", headers=headers, data=data)\n",
    "\n",
    "# Extract the Bearer token from the response\n",
    "bearer_token = response.json()[\"access_token\"]\n",
    "\n",
    "# Use the Bearer token to authenticate requests to the Twitter API\n",
    "headers = {\n",
    "    \"Authorization\": f\"Bearer {bearer_token}\"\n",
    "}\n",
    "\n",
    "# Retrieve the most recent 100 tweets containing the word \"NFT\"\n",
    "response = requests.get(\"https://api.twitter.com/2/tweets/search/recent\", headers=headers, params={\n",
    "    \"query\": \"NFT\",\n",
    "    \"max_results\": 100\n",
    "})\n",
    "\n",
    "# Extract the tweets from the response\n",
    "tweets = response.json()[\"data\"]\n",
    "\n",
    "# Print the text of each tweet\n",
    "#for tweet in tweets:\n",
    " #   print(tweet[\"text\"])\n",
    "\n",
    "df = pd.DataFrame(tweets)\n",
    "\n",
    "print(df)"
   ]
  }
 ],
 "metadata": {
  "kernelspec": {
   "display_name": "Python 3.11.0 64-bit",
   "language": "python",
   "name": "python3"
  },
  "language_info": {
   "name": "python",
   "version": "3.11.0"
  },
  "orig_nbformat": 4,
  "vscode": {
   "interpreter": {
    "hash": "aee8b7b246df8f9039afb4144a1f6fd8d2ca17a180786b69acc140d282b71a49"
   }
  }
 },
 "nbformat": 4,
 "nbformat_minor": 2
}
