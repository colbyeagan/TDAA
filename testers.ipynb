{
 "cells": [
  {
   "cell_type": "code",
   "execution_count": null,
   "metadata": {},
   "outputs": [],
   "source": [
    "\"\"\"Ignore this code cell, this is an alternate variation I was messing around with at first, start below\"\"\"\n",
    "import requests\n",
    "import base64\n",
    "\n",
    "# Replace the values below with your own API key and API secret key\n",
    "api_key = \"R47AjI7AIbY4t9xkZLgnxCYfE\"\n",
    "api_secret_key = \"86hsbN2nDZTvbdcXNwOaQAL4UN2p3875U5LVDXKJkKU2hXoWlT\"\n",
    "\n",
    "# Encode the API key and API secret key in base64\n",
    "encoded_api_key_secret = base64.b64encode(f\"{api_key}:{api_secret_key}\".encode()).decode()\n",
    "\n",
    "# Obtain a Bearer token\n",
    "headers = {\n",
    "    \"Authorization\": f\"Basic {encoded_api_key_secret}\",\n",
    "    \"Content-Type\": \"application/x-www-form-urlencoded;charset=UTF-8\"\n",
    "}\n",
    "data = {\n",
    "    \"grant_type\": \"client_credentials\"\n",
    "}\n",
    "response = requests.post(\"https://api.twitter.com/oauth2/token\", headers=headers, data=data)\n",
    "\n",
    "# Extract the Bearer token from the response\n",
    "bearer_token = response.json()[\"access_token\"]\n",
    "\n",
    "# Use the Bearer token to authenticate requests to the Twitter API\n",
    "headers = {\n",
    "    \"Authorization\": f\"Bearer {bearer_token}\"\n",
    "}\n",
    "\n",
    "# Retrieve the most recent 100 tweets containing the word \"NFT\"\n",
    "response = requests.get(\"https://api.twitter.com/2/tweets/search/recent\", headers=headers, params={\n",
    "    \"query\": \"NFT\",\n",
    "    \"max_results\": 100\n",
    "})\n",
    "\n",
    "# Extract the tweets from the response\n",
    "tweets = response.json()[\"data\"]\n",
    "\n",
    "# Print the text of each tweet\n",
    "#for tweet in tweets:\n",
    " #   print(tweet[\"text\"])\n",
    "\n",
    "df = pd.DataFrame(tweets)\n",
    "\n",
    "print(df)"
   ]
  },
  {
   "cell_type": "code",
   "execution_count": 2,
   "metadata": {},
   "outputs": [
    {
     "name": "stdout",
     "output_type": "stream",
     "text": [
      "401\n"
     ]
    },
    {
     "ename": "Exception",
     "evalue": "Request returned an error: 401 {\n  \"title\": \"Unauthorized\",\n  \"type\": \"about:blank\",\n  \"status\": 401,\n  \"detail\": \"Unauthorized\"\n}",
     "output_type": "error",
     "traceback": [
      "\u001b[0;31m---------------------------------------------------------------------------\u001b[0m",
      "\u001b[0;31mException\u001b[0m                                 Traceback (most recent call last)",
      "Cell \u001b[0;32mIn [2], line 54\u001b[0m\n\u001b[1;32m     50\u001b[0m     \u001b[39mprint\u001b[39m(json\u001b[39m.\u001b[39mdumps(json_response, indent\u001b[39m=\u001b[39m\u001b[39m4\u001b[39m, sort_keys\u001b[39m=\u001b[39m\u001b[39mTrue\u001b[39;00m))\n\u001b[1;32m     53\u001b[0m \u001b[39mif\u001b[39;00m \u001b[39m__name__\u001b[39m \u001b[39m==\u001b[39m \u001b[39m\"\u001b[39m\u001b[39m__main__\u001b[39m\u001b[39m\"\u001b[39m:\n\u001b[0;32m---> 54\u001b[0m     main()\n",
      "Cell \u001b[0;32mIn [2], line 49\u001b[0m, in \u001b[0;36mmain\u001b[0;34m()\u001b[0m\n\u001b[1;32m     47\u001b[0m \u001b[39mdef\u001b[39;00m \u001b[39mmain\u001b[39m():\n\u001b[1;32m     48\u001b[0m     url, tweet_fields \u001b[39m=\u001b[39m create_url()\n\u001b[0;32m---> 49\u001b[0m     json_response \u001b[39m=\u001b[39m connect_to_endpoint(url, tweet_fields)\n\u001b[1;32m     50\u001b[0m     \u001b[39mprint\u001b[39m(json\u001b[39m.\u001b[39mdumps(json_response, indent\u001b[39m=\u001b[39m\u001b[39m4\u001b[39m, sort_keys\u001b[39m=\u001b[39m\u001b[39mTrue\u001b[39;00m))\n",
      "Cell \u001b[0;32mIn [2], line 39\u001b[0m, in \u001b[0;36mconnect_to_endpoint\u001b[0;34m(url, user_fields)\u001b[0m\n\u001b[1;32m     37\u001b[0m \u001b[39mprint\u001b[39m(response\u001b[39m.\u001b[39mstatus_code)\n\u001b[1;32m     38\u001b[0m \u001b[39mif\u001b[39;00m response\u001b[39m.\u001b[39mstatus_code \u001b[39m!=\u001b[39m \u001b[39m200\u001b[39m:\n\u001b[0;32m---> 39\u001b[0m     \u001b[39mraise\u001b[39;00m \u001b[39mException\u001b[39;00m(\n\u001b[1;32m     40\u001b[0m         \u001b[39m\"\u001b[39m\u001b[39mRequest returned an error: \u001b[39m\u001b[39m{}\u001b[39;00m\u001b[39m \u001b[39m\u001b[39m{}\u001b[39;00m\u001b[39m\"\u001b[39m\u001b[39m.\u001b[39mformat(\n\u001b[1;32m     41\u001b[0m             response\u001b[39m.\u001b[39mstatus_code, response\u001b[39m.\u001b[39mtext\n\u001b[1;32m     42\u001b[0m         )\n\u001b[1;32m     43\u001b[0m     )\n\u001b[1;32m     44\u001b[0m \u001b[39mreturn\u001b[39;00m response\u001b[39m.\u001b[39mjson()\n",
      "\u001b[0;31mException\u001b[0m: Request returned an error: 401 {\n  \"title\": \"Unauthorized\",\n  \"type\": \"about:blank\",\n  \"status\": 401,\n  \"detail\": \"Unauthorized\"\n}"
     ]
    }
   ],
   "source": [
    "import requests\n",
    "import os\n",
    "import json\n",
    "\n",
    "# To set your enviornment variables in your terminal run the following line:\n",
    "# export 'BEARER_TOKEN'='<your_bearer_token>'\n",
    "bearer_token = os.environ.get(\"BEARER_TOKEN\")\n",
    "\n",
    "\n",
    "def create_url():\n",
    "    # User fields are adjustable, options include:\n",
    "    # created_at, description, entities, id, location, name,\n",
    "    # pinned_tweet_id, profile_image_url, protected,\n",
    "    # public_metrics, url, username, verified, and withheld\n",
    "    user_fields = \"user.fields=created_at,description\"\n",
    "    # You can replace the ID given with the Tweet ID you wish to like.\n",
    "    # You can find an ID by using the Tweet lookup endpoint\n",
    "    id = \"1602742534366601218\"\n",
    "    # You can adjust ids to include a single Tweets.\n",
    "    # Or you can add to up to 100 comma-separated IDs\n",
    "    url = \"https://api.twitter.com/2/tweets/{}/liking_users\".format(id)\n",
    "    return url, user_fields\n",
    "\n",
    "\n",
    "def bearer_oauth(r):\n",
    "    \"\"\"\n",
    "    Method required by bearer token authentication.\n",
    "    \"\"\"\n",
    "\n",
    "    r.headers[\"Authorization\"] = f\"Bearer {bearer_token}\"\n",
    "    r.headers[\"User-Agent\"] = \"v2LikingUsersPython\"\n",
    "    return r\n",
    "\n",
    "\n",
    "def connect_to_endpoint(url, user_fields):\n",
    "    response = requests.request(\"GET\", url, auth=bearer_oauth, params=user_fields)\n",
    "    print(response.status_code)\n",
    "    if response.status_code != 200:\n",
    "        raise Exception(\n",
    "            \"Request returned an error: {} {}\".format(\n",
    "                response.status_code, response.text\n",
    "            )\n",
    "        )\n",
    "    return response.json()\n",
    "\n",
    "\n",
    "def main():\n",
    "    url, tweet_fields = create_url()\n",
    "    json_response = connect_to_endpoint(url, tweet_fields)\n",
    "    print(json.dumps(json_response, indent=4, sort_keys=True))\n",
    "\n",
    "\n",
    "if __name__ == \"__main__\":\n",
    "    main()\n"
   ]
  }
 ],
 "metadata": {
  "kernelspec": {
   "display_name": "Python 3.11.0 64-bit",
   "language": "python",
   "name": "python3"
  },
  "language_info": {
   "codemirror_mode": {
    "name": "ipython",
    "version": 3
   },
   "file_extension": ".py",
   "mimetype": "text/x-python",
   "name": "python",
   "nbconvert_exporter": "python",
   "pygments_lexer": "ipython3",
   "version": "3.11.0"
  },
  "orig_nbformat": 4,
  "vscode": {
   "interpreter": {
    "hash": "aee8b7b246df8f9039afb4144a1f6fd8d2ca17a180786b69acc140d282b71a49"
   }
  }
 },
 "nbformat": 4,
 "nbformat_minor": 2
}
