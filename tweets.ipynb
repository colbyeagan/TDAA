{
 "cells": [
  {
   "cell_type": "code",
   "execution_count": null,
   "metadata": {},
   "outputs": [],
   "source": [
    "tweets"
   ]
  },
  {
   "cell_type": "code",
   "execution_count": 33,
   "metadata": {},
   "outputs": [
    {
     "name": "stdout",
     "output_type": "stream",
     "text": [
      "   edit_history_tweet_ids                   id  \\\n",
      "0   [1607798309003091968]  1607798309003091968   \n",
      "1   [1607798308894048256]  1607798308894048256   \n",
      "2   [1607798308717867008]  1607798308717867008   \n",
      "3   [1607798308306833409]  1607798308306833409   \n",
      "4   [1607798308042600448]  1607798308042600448   \n",
      "..                    ...                  ...   \n",
      "95  [1607798283279400960]  1607798283279400960   \n",
      "96  [1607798283275239425]  1607798283275239425   \n",
      "97  [1607798283258458112]  1607798283258458112   \n",
      "98  [1607798283023585280]  1607798283023585280   \n",
      "99  [1607798282637479939]  1607798282637479939   \n",
      "\n",
      "                                                 text  \n",
      "0   #nft\\nUs especially hope turn former can thing...  \n",
      "1   RT @worldofv_sales: 🦍 mad ⓥ-apes Rank 3411 Big...  \n",
      "2   In a month’s time I hope to be able to do so. ...  \n",
      "3   RT @gpsugar1: @ALIENQUEENNFT @TABZ_NFT gm AQ!!...  \n",
      "4   RT @mantheNFT: ⚡️⭐️ GIVEAWAY!! ☀️⚡️\\n\\n1x @ste...  \n",
      "..                                                ...  \n",
      "95  Picture this. It's late in the evening and the...  \n",
      "96  GREIOE a decidedly mixed and perhaps some #NFT...  \n",
      "97  opeyjd his hour marked with a red letter. #NFT...  \n",
      "98  @Monkryptos 708✊✊🏻✊🏼\\n\\n👷Buy once earn forever...  \n",
      "99  @leomacedo8033 @lotta_NFT The Best platform yo...  \n",
      "\n",
      "[100 rows x 3 columns]\n"
     ]
    }
   ],
   "source": [
    "import requests\n",
    "import base64\n",
    "\n",
    "# Replace the values below with your own API key and API secret key\n",
    "api_key = \"R47AjI7AIbY4t9xkZLgnxCYfE\"\n",
    "api_secret_key = \"86hsbN2nDZTvbdcXNwOaQAL4UN2p3875U5LVDXKJkKU2hXoWlT\"\n",
    "\n",
    "# Encode the API key and API secret key in base64\n",
    "encoded_api_key_secret = base64.b64encode(f\"{api_key}:{api_secret_key}\".encode()).decode()\n",
    "\n",
    "# Obtain a Bearer token\n",
    "headers = {\n",
    "    \"Authorization\": f\"Basic {encoded_api_key_secret}\",\n",
    "    \"Content-Type\": \"application/x-www-form-urlencoded;charset=UTF-8\"\n",
    "}\n",
    "data = {\n",
    "    \"grant_type\": \"client_credentials\"\n",
    "}\n",
    "response = requests.post(\"https://api.twitter.com/oauth2/token\", headers=headers, data=data)\n",
    "\n",
    "# Extract the Bearer token from the response\n",
    "bearer_token = response.json()[\"access_token\"]\n",
    "\n",
    "# Use the Bearer token to authenticate requests to the Twitter API\n",
    "headers = {\n",
    "    \"Authorization\": f\"Bearer {bearer_token}\"\n",
    "}\n",
    "\n",
    "# Retrieve the most recent 100 tweets containing the word \"NFT\"\n",
    "response = requests.get(\"https://api.twitter.com/2/tweets/search/recent\", headers=headers, params={\n",
    "    \"query\": \"NFT\",\n",
    "    \"max_results\": 100\n",
    "})\n",
    "\n",
    "# Extract the tweets from the response\n",
    "tweets = response.json()[\"data\"]\n",
    "\n",
    "# Print the text of each tweet\n",
    "#for tweet in tweets:\n",
    " #   print(tweet[\"text\"])\n",
    "\n",
    "df = pd.DataFrame(tweets)\n",
    "\n",
    "print(df)"
   ]
  },
  {
   "cell_type": "code",
   "execution_count": 50,
   "metadata": {},
   "outputs": [],
   "source": [
    "import requests\n",
    "\n",
    "\n",
    "os.environ['TOKEN'] = 'AAAAAAAAAAAAAAAAAAAAAAMwdgEAAAAA%2BBTpRVpy5ExIM6%2BgaytL9o0%2B63M%3Dt3GdaN5o2Hx03bp0XqrktMAotnw3wGHFH6Z3vYsNmtWbTPUxcF'\n",
    "\n",
    "def auth():\n",
    "    return os.getenv('TOKEN')\n",
    "\n",
    "def create_headers(bearer_token):\n",
    "    headers = {\"Authorization\": \"Bearer {}\".format(bearer_token)}\n",
    "    return headers\n",
    "\n",
    "\n",
    "def create_url(keyword, start_date, end_date, max_results = 10):\n",
    "    \n",
    "    #Change to the endpoint you want to collect data from\n",
    "    search_url = \"https://api.twitter.com/2/tweets/search/recent\" \n",
    "\n",
    "    #change params based on the endpoint you are using\n",
    "    query_params = {'query': keyword,\n",
    "                    'start_time': start_date,\n",
    "                    'end_time': end_date,\n",
    "                    'max_results': max_results,\n",
    "                    'expansions': 'author_id',\n",
    "                    'tweet.fields': 'id,text,author_id',\n",
    "                    #'user.fields': 'id,name,username,created_at',\n",
    "                    #'place.fields': 'country',\n",
    "                    'next_token': {}}\n",
    "    return (search_url, query_params)\n",
    "\n",
    "def connect_to_endpoint(url, headers, params, next_token = None):\n",
    "    params['next_token'] = next_token   #params object received from create_url function\n",
    "    response = requests.request(\"GET\", url, headers = headers, params = params)\n",
    "    print(\"Endpoint Response Code: \" + str(response.status_code))\n",
    "    if response.status_code != 200:\n",
    "        raise Exception(response.status_code, response.text)\n",
    "    return response.json()"
   ]
  },
  {
   "cell_type": "code",
   "execution_count": 70,
   "metadata": {},
   "outputs": [
    {
     "name": "stdout",
     "output_type": "stream",
     "text": [
      "The one hour range is from 2021-06-18T08:00:00Z to 2021-06-18T09:00:00Z\n"
     ]
    }
   ],
   "source": [
    "import datetime\n",
    "import random\n",
    "\"\"\"This code cell contains two functions (is_leap_year and random_date) which help generate a random one hour date range when random_date() is called\"\"\"\n",
    "# Use by calling \"start_time, end_time = random_date()\"\n",
    "\n",
    "def is_leap_year(year):\n",
    "    \"\"\"Returns True if the given year is a leap year, False otherwise.\"\"\"\n",
    "    if year % 4 == 0:\n",
    "        if year % 100 == 0:\n",
    "            if year % 400 == 0:\n",
    "                return True\n",
    "            else:\n",
    "                return False\n",
    "        else:\n",
    "            return True\n",
    "    else:\n",
    "        return False\n",
    "\n",
    "def random_date():\n",
    "    \"\"\"Generate a random one hour date range within the last year in RFC 3339 format to be used with twitter API.\"\"\"\n",
    "    year = random.randint(datetime.datetime.now().year - 1, datetime.datetime.now().year)\n",
    "    month = random.randint(1, 12)\n",
    "    if month == 2:\n",
    "        if is_leap_year(year):\n",
    "            day = random.randint(1, 29)\n",
    "        else:\n",
    "            day = random.randint(1, 28)\n",
    "    elif month in [1, 3, 5, 7, 8, 10, 12]:\n",
    "        day = random.randint(1, 31)\n",
    "    else:\n",
    "        day = random.randint(1, 31)\n",
    "    hour = random.randint(0, 24)\n",
    "    start_time = datetime.datetime(year, month, day, hour)\n",
    "    end_time = start_time + datetime.timedelta(hours=1)\n",
    "    start_timestamp = start_time.strftime(\"%Y-%m-%dT%H:%M:%SZ\")\n",
    "    end_timestamp = end_time.strftime(\"%Y-%m-%dT%H:%M:%SZ\")\n",
    "    return start_timestamp, end_timestamp\n",
    "\n",
    "# Choose a random one hour range within the last year\n",
    "#start_time = random_date()\n",
    "#end_time = start_time + datetime.timedelta(hours=1)\n",
    "\n",
    "# Convert the dates to RFC 3339 timestamps\n",
    "#start_timestamp = start_time.strftime(\"%Y-%m-%dT%H:%M:%SZ\")\n",
    "#end_timestamp = end_time.strftime(\"%Y-%m-%dT%H:%M:%SZ\")\n",
    "\n",
    "#start_time1, end_time1 = random_date()\n",
    "#print(f\"The one hour range is from {start_time1} to {end_time1}\")\n"
   ]
  },
  {
   "cell_type": "code",
   "execution_count": 71,
   "metadata": {},
   "outputs": [],
   "source": [
    "\n",
    "#Inputs for the request\n",
    "bearer_token = auth()\n",
    "headers = create_headers(bearer_token)\n",
    "keyword = \"Xbox lang:en\"\n",
    "# Choose a random one hour range within the last year\n",
    "start_time, end_time = random_date()\n",
    "max_results = 15"
   ]
  },
  {
   "cell_type": "code",
   "execution_count": 72,
   "metadata": {},
   "outputs": [
    {
     "name": "stdout",
     "output_type": "stream",
     "text": [
      "Endpoint Response Code: 400\n"
     ]
    },
    {
     "ename": "Exception",
     "evalue": "(400, '{\"errors\":[{\"parameters\":{\"start_time\":[\"2021-05-27T08:00Z\"]},\"message\":\"Invalid \\'start_time\\':\\'2021-05-27T08:00Z\\'. \\'start_time\\' must be on or after 2022-12-23T17:34Z\"},{\"parameters\":{\"end_time\":[\"2021-05-27T09:00Z\"]},\"message\":\"Invalid \\'end_time\\':\\'2021-05-27T09:00Z\\'. \\'end_time\\' must be on or after 2022-12-23T17:34Z\"}],\"title\":\"Invalid Request\",\"detail\":\"One or more parameters to your request was invalid.\",\"type\":\"https://api.twitter.com/2/problems/invalid-request\"}')",
     "output_type": "error",
     "traceback": [
      "\u001b[0;31m---------------------------------------------------------------------------\u001b[0m",
      "\u001b[0;31mException\u001b[0m                                 Traceback (most recent call last)",
      "Cell \u001b[0;32mIn [72], line 2\u001b[0m\n\u001b[1;32m      1\u001b[0m url \u001b[39m=\u001b[39m create_url(keyword, start_time, end_time, max_results)\n\u001b[0;32m----> 2\u001b[0m json_response \u001b[39m=\u001b[39m connect_to_endpoint(url[\u001b[39m0\u001b[39;49m], headers, url[\u001b[39m1\u001b[39;49m])\n\u001b[1;32m      3\u001b[0m \u001b[39mprint\u001b[39m(json\u001b[39m.\u001b[39mdumps(json_response, indent\u001b[39m=\u001b[39m\u001b[39m4\u001b[39m, sort_keys\u001b[39m=\u001b[39m\u001b[39mTrue\u001b[39;00m))\n",
      "Cell \u001b[0;32mIn [50], line 36\u001b[0m, in \u001b[0;36mconnect_to_endpoint\u001b[0;34m(url, headers, params, next_token)\u001b[0m\n\u001b[1;32m     34\u001b[0m \u001b[39mprint\u001b[39m(\u001b[39m\"\u001b[39m\u001b[39mEndpoint Response Code: \u001b[39m\u001b[39m\"\u001b[39m \u001b[39m+\u001b[39m \u001b[39mstr\u001b[39m(response\u001b[39m.\u001b[39mstatus_code))\n\u001b[1;32m     35\u001b[0m \u001b[39mif\u001b[39;00m response\u001b[39m.\u001b[39mstatus_code \u001b[39m!=\u001b[39m \u001b[39m200\u001b[39m:\n\u001b[0;32m---> 36\u001b[0m     \u001b[39mraise\u001b[39;00m \u001b[39mException\u001b[39;00m(response\u001b[39m.\u001b[39mstatus_code, response\u001b[39m.\u001b[39mtext)\n\u001b[1;32m     37\u001b[0m \u001b[39mreturn\u001b[39;00m response\u001b[39m.\u001b[39mjson()\n",
      "\u001b[0;31mException\u001b[0m: (400, '{\"errors\":[{\"parameters\":{\"start_time\":[\"2021-05-27T08:00Z\"]},\"message\":\"Invalid \\'start_time\\':\\'2021-05-27T08:00Z\\'. \\'start_time\\' must be on or after 2022-12-23T17:34Z\"},{\"parameters\":{\"end_time\":[\"2021-05-27T09:00Z\"]},\"message\":\"Invalid \\'end_time\\':\\'2021-05-27T09:00Z\\'. \\'end_time\\' must be on or after 2022-12-23T17:34Z\"}],\"title\":\"Invalid Request\",\"detail\":\"One or more parameters to your request was invalid.\",\"type\":\"https://api.twitter.com/2/problems/invalid-request\"}')"
     ]
    }
   ],
   "source": [
    "url = create_url(keyword, start_time, end_time, max_results)\n",
    "json_response = connect_to_endpoint(url[0], headers, url[1])\n",
    "print(json.dumps(json_response, indent=4, sort_keys=True))"
   ]
  }
 ],
 "metadata": {
  "kernelspec": {
   "display_name": "Python 3.11.0 64-bit",
   "language": "python",
   "name": "python3"
  },
  "language_info": {
   "codemirror_mode": {
    "name": "ipython",
    "version": 3
   },
   "file_extension": ".py",
   "mimetype": "text/x-python",
   "name": "python",
   "nbconvert_exporter": "python",
   "pygments_lexer": "ipython3",
   "version": "3.11.0"
  },
  "orig_nbformat": 4,
  "vscode": {
   "interpreter": {
    "hash": "aee8b7b246df8f9039afb4144a1f6fd8d2ca17a180786b69acc140d282b71a49"
   }
  }
 },
 "nbformat": 4,
 "nbformat_minor": 2
}
