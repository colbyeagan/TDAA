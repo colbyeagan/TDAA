{
 "cells": [
  {
   "cell_type": "code",
   "execution_count": 9,
   "metadata": {},
   "outputs": [],
   "source": []
  },
  {
   "cell_type": "code",
   "execution_count": 23,
   "metadata": {},
   "outputs": [
    {
     "ename": "RecursionError",
     "evalue": "maximum recursion depth exceeded",
     "output_type": "error",
     "traceback": [
      "\u001b[0;31m---------------------------------------------------------------------------\u001b[0m",
      "\u001b[0;31mRecursionError\u001b[0m                            Traceback (most recent call last)",
      "Cell \u001b[0;32mIn[23], line 24\u001b[0m\n\u001b[1;32m     21\u001b[0m     \u001b[39melse\u001b[39;00m:\n\u001b[1;32m     22\u001b[0m         \u001b[39mreturn\u001b[39;00m count\n\u001b[0;32m---> 24\u001b[0m function(\u001b[39m10\u001b[39;49m, \u001b[39m6\u001b[39;49m, \u001b[39m3\u001b[39;49m, \u001b[39m1\u001b[39;49m)\n",
      "Cell \u001b[0;32mIn[23], line 20\u001b[0m, in \u001b[0;36mfunction\u001b[0;34m(a, b, c, d)\u001b[0m\n\u001b[1;32m     17\u001b[0m temp_d: \u001b[39mint\u001b[39m \u001b[39m=\u001b[39m (large_minus_small(d, a))\n\u001b[1;32m     19\u001b[0m \u001b[39mif\u001b[39;00m (temp_a \u001b[39m>\u001b[39m \u001b[39m0\u001b[39m \u001b[39mor\u001b[39;00m temp_b \u001b[39m>\u001b[39m \u001b[39m0\u001b[39m) \u001b[39mor\u001b[39;00m (temp_c \u001b[39m>\u001b[39m \u001b[39m0\u001b[39m \u001b[39mor\u001b[39;00m temp_d \u001b[39m>\u001b[39m \u001b[39m0\u001b[39m):\n\u001b[0;32m---> 20\u001b[0m     function(temp_a, temp_b, temp_b, temp_c)\n\u001b[1;32m     21\u001b[0m \u001b[39melse\u001b[39;00m:\n\u001b[1;32m     22\u001b[0m     \u001b[39mreturn\u001b[39;00m count\n",
      "Cell \u001b[0;32mIn[23], line 20\u001b[0m, in \u001b[0;36mfunction\u001b[0;34m(a, b, c, d)\u001b[0m\n\u001b[1;32m     17\u001b[0m temp_d: \u001b[39mint\u001b[39m \u001b[39m=\u001b[39m (large_minus_small(d, a))\n\u001b[1;32m     19\u001b[0m \u001b[39mif\u001b[39;00m (temp_a \u001b[39m>\u001b[39m \u001b[39m0\u001b[39m \u001b[39mor\u001b[39;00m temp_b \u001b[39m>\u001b[39m \u001b[39m0\u001b[39m) \u001b[39mor\u001b[39;00m (temp_c \u001b[39m>\u001b[39m \u001b[39m0\u001b[39m \u001b[39mor\u001b[39;00m temp_d \u001b[39m>\u001b[39m \u001b[39m0\u001b[39m):\n\u001b[0;32m---> 20\u001b[0m     function(temp_a, temp_b, temp_b, temp_c)\n\u001b[1;32m     21\u001b[0m \u001b[39melse\u001b[39;00m:\n\u001b[1;32m     22\u001b[0m     \u001b[39mreturn\u001b[39;00m count\n",
      "    \u001b[0;31m[... skipping similar frames: function at line 20 (2961 times)]\u001b[0m\n",
      "Cell \u001b[0;32mIn[23], line 20\u001b[0m, in \u001b[0;36mfunction\u001b[0;34m(a, b, c, d)\u001b[0m\n\u001b[1;32m     17\u001b[0m temp_d: \u001b[39mint\u001b[39m \u001b[39m=\u001b[39m (large_minus_small(d, a))\n\u001b[1;32m     19\u001b[0m \u001b[39mif\u001b[39;00m (temp_a \u001b[39m>\u001b[39m \u001b[39m0\u001b[39m \u001b[39mor\u001b[39;00m temp_b \u001b[39m>\u001b[39m \u001b[39m0\u001b[39m) \u001b[39mor\u001b[39;00m (temp_c \u001b[39m>\u001b[39m \u001b[39m0\u001b[39m \u001b[39mor\u001b[39;00m temp_d \u001b[39m>\u001b[39m \u001b[39m0\u001b[39m):\n\u001b[0;32m---> 20\u001b[0m     function(temp_a, temp_b, temp_b, temp_c)\n\u001b[1;32m     21\u001b[0m \u001b[39melse\u001b[39;00m:\n\u001b[1;32m     22\u001b[0m     \u001b[39mreturn\u001b[39;00m count\n",
      "Cell \u001b[0;32mIn[23], line 14\u001b[0m, in \u001b[0;36mfunction\u001b[0;34m(a, b, c, d)\u001b[0m\n\u001b[1;32m     12\u001b[0m \u001b[39mglobal\u001b[39;00m count \n\u001b[1;32m     13\u001b[0m count \u001b[39m+\u001b[39m\u001b[39m=\u001b[39m \u001b[39m1\u001b[39m\n\u001b[0;32m---> 14\u001b[0m temp_a: \u001b[39mint\u001b[39m \u001b[39m=\u001b[39m (large_minus_small(a, b))\n\u001b[1;32m     15\u001b[0m temp_b: \u001b[39mint\u001b[39m \u001b[39m=\u001b[39m (large_minus_small(b, c))\n\u001b[1;32m     16\u001b[0m temp_c: \u001b[39mint\u001b[39m \u001b[39m=\u001b[39m (large_minus_small(c, d))\n",
      "Cell \u001b[0;32mIn[23], line 3\u001b[0m, in \u001b[0;36mlarge_minus_small\u001b[0;34m(num1, num2)\u001b[0m\n\u001b[1;32m      1\u001b[0m \u001b[39mfrom\u001b[39;00m \u001b[39mIPython\u001b[39;00m\u001b[39m.\u001b[39;00m\u001b[39mcore\u001b[39;00m\u001b[39m.\u001b[39;00m\u001b[39minteractiveshell\u001b[39;00m \u001b[39mimport\u001b[39;00m InteractiveShell\n\u001b[1;32m      2\u001b[0m InteractiveShell\u001b[39m.\u001b[39mast_node_interactivity \u001b[39m=\u001b[39m \u001b[39m\"\u001b[39m\u001b[39mall\u001b[39m\u001b[39m\"\u001b[39m\n\u001b[0;32m----> 3\u001b[0m \u001b[39mdef\u001b[39;00m \u001b[39mlarge_minus_small\u001b[39m(num1: \u001b[39mint\u001b[39m, num2: \u001b[39mint\u001b[39m):\n\u001b[1;32m      4\u001b[0m     \u001b[39mif\u001b[39;00m num1 \u001b[39m>\u001b[39m\u001b[39m=\u001b[39m num2:\n\u001b[1;32m      5\u001b[0m         \u001b[39mreturn\u001b[39;00m (num1 \u001b[39m-\u001b[39m num2)\n",
      "Cell \u001b[0;32mIn[23], line 3\u001b[0m, in \u001b[0;36mlarge_minus_small\u001b[0;34m(num1, num2)\u001b[0m\n\u001b[1;32m      1\u001b[0m \u001b[39mfrom\u001b[39;00m \u001b[39mIPython\u001b[39;00m\u001b[39m.\u001b[39;00m\u001b[39mcore\u001b[39;00m\u001b[39m.\u001b[39;00m\u001b[39minteractiveshell\u001b[39;00m \u001b[39mimport\u001b[39;00m InteractiveShell\n\u001b[1;32m      2\u001b[0m InteractiveShell\u001b[39m.\u001b[39mast_node_interactivity \u001b[39m=\u001b[39m \u001b[39m\"\u001b[39m\u001b[39mall\u001b[39m\u001b[39m\"\u001b[39m\n\u001b[0;32m----> 3\u001b[0m \u001b[39mdef\u001b[39;00m \u001b[39mlarge_minus_small\u001b[39m(num1: \u001b[39mint\u001b[39m, num2: \u001b[39mint\u001b[39m):\n\u001b[1;32m      4\u001b[0m     \u001b[39mif\u001b[39;00m num1 \u001b[39m>\u001b[39m\u001b[39m=\u001b[39m num2:\n\u001b[1;32m      5\u001b[0m         \u001b[39mreturn\u001b[39;00m (num1 \u001b[39m-\u001b[39m num2)\n",
      "\u001b[0;31mRecursionError\u001b[0m: maximum recursion depth exceeded"
     ]
    }
   ],
   "source": [
    "from IPython.core.interactiveshell import InteractiveShell\n",
    "InteractiveShell.ast_node_interactivity = \"all\"\n",
    "def large_minus_small(num1: int, num2: int):\n",
    "    if num1 >= num2:\n",
    "        return (num1 - num2)\n",
    "    else:\n",
    "        return (num2 - num1)\n",
    "\n",
    "count: int = 0\n",
    "\n",
    "def function(a: int, b: int, c: int, d: int) -> int:\n",
    "    global count \n",
    "    count += 1\n",
    "    temp_a: int = (large_minus_small(a, b))\n",
    "    temp_b: int = (large_minus_small(b, c))\n",
    "    temp_c: int = (large_minus_small(c, d))\n",
    "    temp_d: int = (large_minus_small(d, a))\n",
    "    \n",
    "    if (temp_a > 0 or temp_b > 0) or (temp_c > 0 or temp_d > 0):\n",
    "        function(temp_a, temp_b, temp_b, temp_c)\n",
    "    else:\n",
    "        return count\n",
    "\n",
    "function(10, 6, 3, 1)"
   ]
  },
  {
   "cell_type": "code",
   "execution_count": 22,
   "metadata": {},
   "outputs": [
    {
     "data": {
      "text/plain": [
       "7"
      ]
     },
     "execution_count": 22,
     "metadata": {},
     "output_type": "execute_result"
    }
   ],
   "source": [
    "def large_minus_small(num1: int, num2: int):\n",
    "    if num1 >= num2:\n",
    "        return (num1 - num2)\n",
    "    else:\n",
    "        return (num2 - num1)\n",
    "\n",
    "def function(a: int, b: int, c: int, d: int) -> int:\n",
    "    count: int = 1\n",
    "    while (a > 0 or b > 0 or c > 0 or d > 0):\n",
    "        count += 1\n",
    "        temp_a = large_minus_small(a, b)\n",
    "        temp_b = large_minus_small(b, c)\n",
    "        temp_c = large_minus_small(c, d)\n",
    "        temp_d = large_minus_small(d, a)\n",
    "        a = temp_a\n",
    "        b = temp_b\n",
    "        c = temp_c\n",
    "        d = temp_d\n",
    "    return count\n",
    "\n",
    "function(10, 6, 3, 1)"
   ]
  }
 ],
 "metadata": {
  "kernelspec": {
   "display_name": "venv",
   "language": "python",
   "name": "python3"
  },
  "language_info": {
   "codemirror_mode": {
    "name": "ipython",
    "version": 3
   },
   "file_extension": ".py",
   "mimetype": "text/x-python",
   "name": "python",
   "nbconvert_exporter": "python",
   "pygments_lexer": "ipython3",
   "version": "3.11.0"
  },
  "orig_nbformat": 4,
  "vscode": {
   "interpreter": {
    "hash": "76a8da54f595e94a6509c3e1028b6d32e3e157e2600d6a062ba1a8695d18a0de"
   }
  }
 },
 "nbformat": 4,
 "nbformat_minor": 2
}
